{
 "cells": [
  {
   "cell_type": "code",
   "execution_count": null,
   "id": "ac09d2cc-0b50-4c69-ae0b-25b0bf05a484",
   "metadata": {},
   "outputs": [],
   "source": [
    "#Load libraries\n",
    "import pandas as pd\n",
    "import numpy as np\n",
    "import matplotlib.pyplot as plt\n",
    "import tensorflow as tf"
   ]
  },
  {
   "cell_type": "code",
   "execution_count": null,
   "id": "7a187b7a-34d5-4aec-bd30-fbb085e88808",
   "metadata": {},
   "outputs": [],
   "source": [
    "#import dataset\n",
    "data = pd.read_csv(r\"C:\\Users\\User\\Downloads\\dataset.csv\")"
   ]
  },
  {
   "cell_type": "code",
   "execution_count": null,
   "id": "f1829b8c-8a41-49ed-b3a4-1cd7aa9edc3f",
   "metadata": {},
   "outputs": [],
   "source": [
    "#first five values of the dataset\n",
    "data.head()"
   ]
  },
  {
   "cell_type": "code",
   "execution_count": null,
   "id": "085b2a7e-fd92-41cc-b952-b4cb56d9201f",
   "metadata": {},
   "outputs": [],
   "source": [
    "#labal data\n",
    "x = data['x']  \n",
    "y = data['y']"
   ]
  },
  {
   "cell_type": "code",
   "execution_count": null,
   "id": "932245be-45f9-4a64-83f1-4700eaa00489",
   "metadata": {},
   "outputs": [],
   "source": [
    "#dataset\n",
    "plt.scatter(x, y, c='b')\n",
    "plt.show()"
   ]
  },
  {
   "cell_type": "code",
   "execution_count": null,
   "id": "8ba90305-6ffb-41d7-9fb3-c058c27cbb9a",
   "metadata": {},
   "outputs": [],
   "source": [
    "from sklearn.model_selection import train_test_split\n",
    "x_train, x_test, y_train, y_test = train_test_split(x, y, test_size = 0.2, random_state=42)"
   ]
  },
  {
   "cell_type": "code",
   "execution_count": null,
   "id": "a28a1ee5-12eb-4a88-8469-5998345ab14d",
   "metadata": {},
   "outputs": [],
   "source": [
    "x_train.shape, x_test.shape"
   ]
  },
  {
   "cell_type": "code",
   "execution_count": null,
   "id": "f7c1de87-837d-48d0-a5fd-2fb82c89cd25",
   "metadata": {},
   "outputs": [],
   "source": [
    "plt.scatter(x_train, y_train, c='b', label=\"Training Data\")\n",
    "plt.scatter(x_test, y_test, c='y', label=\"Test Data\")"
   ]
  },
  {
   "cell_type": "code",
   "execution_count": null,
   "id": "5efdf0c1-2309-4a9c-9ca7-283907c701da",
   "metadata": {},
   "outputs": [],
   "source": [
    "#Model Building\n",
    "from tensorflow.keras.layers import Dense, Dropout\n",
    "\n",
    "model = tf.keras.Sequential([\n",
    "    tf.keras.layers.Dense(64, activation ='relu', input_shape=(1,)),#hidden layer,\n",
    "    tf.keras.layers.Dense(16, activation ='relu'), \n",
    "    tf.keras.layers.Dense(1) #Output layer\n",
    "])\n",
    "\n",
    "model.compile(loss = tf.keras.losses.MeanAbsoluteError(),\n",
    "             optimizer = tf.keras.optimizers.Adam(learning_rate= 0.05),\n",
    "             metrics = ['mse'])\n",
    "\n",
    "model.fit(tf.expand_dims(x_train, axis=1), y_train, epochs=10, batch_size=32, validation_split=0.2) #training"
   ]
  },
  {
   "cell_type": "markdown",
   "id": "e0b0a7b5-7e45-416a-a2ae-597c4e5252f7",
   "metadata": {
    "scrolled": true
   },
   "source": [
    "model.summary()"
   ]
  },
  {
   "cell_type": "code",
   "execution_count": null,
   "id": "a66e2adf-8047-4c5c-8ba3-42e57ab30a0f",
   "metadata": {},
   "outputs": [],
   "source": [
    "y_pred = model.predict(x_test)\n",
    "y_pred[:5]"
   ]
  },
  {
   "cell_type": "code",
   "execution_count": null,
   "id": "df960ea0-b5e3-421e-aac8-7d2db7eb81de",
   "metadata": {},
   "outputs": [],
   "source": [
    "y_test.head()"
   ]
  },
  {
   "cell_type": "code",
   "execution_count": null,
   "id": "857d4f2e-0f3d-406c-bc23-d4e40678b530",
   "metadata": {},
   "outputs": [],
   "source": [
    "plt.scatter(x_train, y_train, c='b', label='Training Data')\n",
    "plt.scatter(x_test, y_test, c='y', label='Test Data')\n",
    "plt.scatter(x_test, y_pred, c='r', label='predictions')\n",
    "plt.legend()"
   ]
  },
  {
   "cell_type": "code",
   "execution_count": null,
   "id": "47316fbd-63de-45cc-a8a7-c43acb370669",
   "metadata": {},
   "outputs": [],
   "source": [
    "model.evaluate(x_test, y_test) #evaluate set data"
   ]
  },
  {
   "cell_type": "code",
   "execution_count": null,
   "id": "06092f84-3781-4acb-81f8-e4bba3d2e289",
   "metadata": {},
   "outputs": [],
   "source": [
    "import tensorflow as tf \n",
    "mae = tf.keras.metrics.MeanAbsoluteError()\n",
    "mae.update_state(y_test, tf.squeeze(y_pred))\n",
    "mae_result = mae.result().numpy()\n",
    "print(mae_result)"
   ]
  }
 ],
 "metadata": {
  "kernelspec": {
   "display_name": "Python 3 (ipykernel)",
   "language": "python",
   "name": "python3"
  },
  "language_info": {
   "codemirror_mode": {
    "name": "ipython",
    "version": 3
   },
   "file_extension": ".py",
   "mimetype": "text/x-python",
   "name": "python",
   "nbconvert_exporter": "python",
   "pygments_lexer": "ipython3",
   "version": "3.12.4"
  }
 },
 "nbformat": 4,
 "nbformat_minor": 5
}
